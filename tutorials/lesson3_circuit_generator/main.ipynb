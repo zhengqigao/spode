{
 "cells": [
  {
   "cell_type": "markdown",
   "metadata": {},
   "source": [
    "# Introduction\n",
    "\n",
    "**This notebook will approximately take 20 mins**. In the previous Lesson 2, we have briefly touched our built-in circuit generator and its naming convention, but we haven't explained which arm of the TBU is theta, and which arm is phi. We just show the example as it is in Lesson 2. In this notebook, we will explain all details about our circuit generator, so that users could realize their own examples correctly and quickly. Moreover, besides the previous square mesh, we will demonstrate two other frequently used circuit generators: a concentric hexagonal mesh, a parallelogram triangular mesh.\n",
    "\n",
    "**Note**: Readers are highly encouraged to first read tutorial Lesson 2 before running this notebook. Please make sure you start a jupyter notebook in the folder 'lesson3_circuit_generator'. Otherwise, the image imported below might not display correcly."
   ]
  },
  {
   "cell_type": "markdown",
   "metadata": {},
   "source": [
    "Before going into the main text, here we want to emphasize the correct way to define a TBU model. What we now attempt to convey is a clear way to define the TBU model without ambiguity. But, wait... Where is the ambiguity exactly? For readers who have this question, please try thinking of how to define the following TBUs in the simulator:\n",
    "\n",
    "<img src=\"figs/one_tbu.png\" width=\"500\" align=\"center\"/>\n",
    "\n",
    "Obviously, we want one specific definition for one case (i.e., a one-to-one mapping). It is of crucial importance that the naming convention could distinguish these cases without confusion, especially when ```theta != phi``` or ```left DC != Right DC```.\n",
    "\n",
    "Our naming convention is as follows:\n",
    "\n",
    "```\n",
    "‘tbu_name’: {‘ln’: [a, b], ‘rn’:[c, d], ‘theta’: x, ‘phi’: y, ‘l’: z}\n",
    "```\n",
    "\n",
    "where ```x,y,z``` are some scalar values, ```a,b,c,d``` are node names: \n",
    "\n",
    "```\n",
    "a = the node connected directly to the left DC, and on the same row with theta\n",
    "b = the node connected directly to the left DC, and on the same row with phi\n",
    "\n",
    "c = the node connected directly to the right DC, and on the same row with theta\n",
    "d = the node connected directly to the right DC, and on the same row with phi\n",
    "```\n",
    "\n",
    "Following this naming convention, four the above four cases, the definitions should be:\n",
    "\n",
    "```\n",
    "circuit_case1 = {'tbum1': {'ln': ['n1', 'n2'], 'rn': ['n3', 'n4'], 'theta':  x, 'phi': y, 'l': z}}\n",
    "circuit_case2 = {'tbum1': {'ln': ['n2', 'n1'], 'rn': ['n4', 'n3'], 'theta':  x, 'phi': y, 'l': z}}\n",
    "circuit_case3 = {'tbum1': {'ln': ['n3', 'n4'], 'rn': ['n1', 'n2'], 'theta':  x, 'phi': y, 'l': z}}\n",
    "circuit_case4 = {'tbum1': {'ln': ['n4', 'n3'], 'rn': ['n2', 'n1'], 'theta':  x, 'phi': y, 'l': z}}\n",
    "\n",
    "```\n",
    "\n",
    "In an ideal case where both left and right DC achieve 50%:50% power splitting, case1 is the same as case3, and case2 is the same as case4. In other words, this implies that if ```left DC == Right DC```, then we could exchange the values of ```ln``` and ```rn``` (i.e., no need to distinguish left and right).\n",
    "\n",
    "If readers still want to try more examples, please refer to the Appendix of this notebook. There we provide extra examples (including a TBU placed vertically)."
   ]
  },
  {
   "cell_type": "markdown",
   "metadata": {},
   "source": [
    "## The Location of Theta and Phi\n",
    "\n",
    "In Lesson 2, we demonstrate how to use our built-in circuit generator to automatically produce a 2 by 2 square mesh. However, we didn't explain how the generator decides, for one specific TBU, which arm contains phase shift ```theta``` and which arm contains ```phi```. \n",
    "\n",
    "Note that this should be readily clear if you inspect the generated ```ln``` and ```rn``` of the ```circuit_element```, by applying our naming convention demonstrated above. And you will see it is consistent with the manually generated schematic in Part I of Lesson 2. To relieve readers from painfully do this on themselves and help readers understand better about the generator, we will now explain the detailed behaviours of our generator."
   ]
  },
  {
   "cell_type": "markdown",
   "metadata": {},
   "source": [
    "### Generator I: Square Mesh"
   ]
  },
  {
   "cell_type": "code",
   "execution_count": 1,
   "metadata": {},
   "outputs": [
    {
     "name": "stdout",
     "output_type": "stream",
     "text": [
      "tbum_1#0_1#1_v : left node = [n_1#1_tl, n_1#0_tr], right node = [n_1#1_bl, n_1#0_br]\n",
      "tbum_1#1_1#2_v : left node = [n_1#2_tl, n_1#1_tr], right node = [n_1#2_bl, n_1#1_br]\n",
      "tbum_1#2_1#3_v : left node = [n_1#3_tl, n_1#2_tr], right node = [n_1#3_bl, n_1#2_br]\n",
      "tbum_2#0_2#1_v : left node = [n_2#1_tl, n_2#0_tr], right node = [n_2#1_bl, n_2#0_br]\n",
      "tbum_2#1_2#2_v : left node = [n_2#2_tl, n_2#1_tr], right node = [n_2#2_bl, n_2#1_br]\n",
      "tbum_2#2_2#3_v : left node = [n_2#3_tl, n_2#2_tr], right node = [n_2#3_bl, n_2#2_br]\n",
      "tbum_0#1_1#1_h : left node = [n_0#1_bl, n_1#1_tl], right node = [n_0#1_br, n_1#1_tr]\n",
      "tbum_0#2_1#2_h : left node = [n_0#2_bl, n_1#2_tl], right node = [n_0#2_br, n_1#2_tr]\n",
      "tbum_1#1_2#1_h : left node = [n_1#1_bl, n_2#1_tl], right node = [n_1#1_br, n_2#1_tr]\n",
      "tbum_1#2_2#2_h : left node = [n_1#2_bl, n_2#2_tl], right node = [n_1#2_br, n_2#2_tr]\n",
      "tbum_2#1_3#1_h : left node = [n_2#1_bl, n_3#1_tl], right node = [n_2#1_br, n_3#1_tr]\n",
      "tbum_2#2_3#2_h : left node = [n_2#2_bl, n_3#2_tl], right node = [n_2#2_br, n_3#2_tr]\n"
     ]
    }
   ],
   "source": [
    "from spode.core import Circuit, FreeLightSpeed\n",
    "from spode.util import Generator\n",
    "import numpy as np \n",
    "\n",
    "init_dict = {'theta': 0.0 * np.pi, 'phi': 0.0 * np.pi, 'l': 250e-6}\n",
    "square_generator = Generator('square_1', [2, 2])\n",
    "\n",
    "circuit_element = square_generator.generate(init_dict)\n",
    "\n",
    "for k,v in circuit_element.items():\n",
    "    print(\"%s : left node = [%s, %s], right node = [%s, %s]\" %(k, v['ln'][0], v['ln'][1], v['rn'][0], v['rn'][1]))"
   ]
  },
  {
   "cell_type": "markdown",
   "metadata": {},
   "source": [
    "We have printed the generated TBUs and their nodes. In the following, we show all naming rules in our square mesh generator. As readers could pick one TBU and check, it satisfies rules (ii)-(v).\n",
    "\n",
    "<img src=\"figs/square_naming.png\" width=\"900\" align=\"center\"/>\n",
    "\n"
   ]
  },
  {
   "cell_type": "markdown",
   "metadata": {},
   "source": [
    "After providing other necessary parameters, we could run the simulation by the following command.\n",
    "```\n",
    "circuit = Circuit(circuit_element=circuit_element,\n",
    "                  mode_info=?,\n",
    "                  omega=?,\n",
    "                  srce_node=?,\n",
    "                  prob_node=?,\n",
    "                  deri_node=?,\n",
    "                  deri_vari=?)\n",
    "\n",
    "response = circuit.solve(require_grads=?)\n",
    "```\n",
    "\n",
    "All the places marked by ```?``` need to be specified by the users."
   ]
  },
  {
   "cell_type": "markdown",
   "metadata": {},
   "source": [
    "### Generator II: Concentric Hexagonal Mesh"
   ]
  },
  {
   "cell_type": "code",
   "execution_count": 2,
   "metadata": {},
   "outputs": [
    {
     "name": "stdout",
     "output_type": "stream",
     "text": [
      "tbum_1#1_2#6_nd : left node = [n_1#1_p1, n_2#6_p3], right node = [n_1#1_p6, n_2#6_p4]\n",
      "tbum_1#1_2#1_nd : left node = [n_1#1_p2, n_2#1_p4], right node = [n_1#1_p1, n_2#1_p5]\n",
      "tbum_1#1_2#2_nd : left node = [n_1#1_p3, n_2#2_p5], right node = [n_1#1_p2, n_2#2_p6]\n",
      "tbum_1#1_2#3_nd : left node = [n_1#1_p4, n_2#3_p6], right node = [n_1#1_p3, n_2#3_p1]\n",
      "tbum_1#1_2#4_nd : left node = [n_1#1_p5, n_2#4_p1], right node = [n_1#1_p4, n_2#4_p2]\n",
      "tbum_1#1_2#5_nd : left node = [n_1#1_p6, n_2#5_p2], right node = [n_1#1_p5, n_2#5_p3]\n",
      "tbum_2#1_2#2_rd : left node = [n_2#2_p1, n_2#1_p3], right node = [n_2#2_p6, n_2#1_p4]\n",
      "tbum_2#2_2#3_rd : left node = [n_2#3_p2, n_2#2_p4], right node = [n_2#3_p1, n_2#2_p5]\n",
      "tbum_2#3_2#4_rd : left node = [n_2#4_p3, n_2#3_p5], right node = [n_2#4_p2, n_2#3_p6]\n",
      "tbum_2#4_2#5_rd : left node = [n_2#5_p4, n_2#4_p6], right node = [n_2#5_p3, n_2#4_p1]\n",
      "tbum_2#5_2#6_rd : left node = [n_2#6_p5, n_2#5_p1], right node = [n_2#6_p4, n_2#5_p2]\n",
      "tbum_2#6_2#1_rd : left node = [n_2#1_p6, n_2#6_p2], right node = [n_2#1_p5, n_2#6_p3]\n",
      "tbum_2#5_3#10_nd : left node = [n_2#5_p1, n_3#10_p3], right node = [n_2#5_p6, n_3#10_p4]\n",
      "tbum_2#6_3#11_nd : left node = [n_2#6_p1, n_3#11_p3], right node = [n_2#6_p6, n_3#11_p4]\n",
      "tbum_2#1_3#12_nd : left node = [n_2#1_p1, n_3#12_p3], right node = [n_2#1_p6, n_3#12_p4]\n",
      "tbum_2#6_3#12_nd : left node = [n_2#6_p2, n_3#12_p4], right node = [n_2#6_p1, n_3#12_p5]\n",
      "tbum_2#1_3#1_nd : left node = [n_2#1_p2, n_3#1_p4], right node = [n_2#1_p1, n_3#1_p5]\n",
      "tbum_2#2_3#2_nd : left node = [n_2#2_p2, n_3#2_p4], right node = [n_2#2_p1, n_3#2_p5]\n",
      "tbum_2#1_3#2_nd : left node = [n_2#1_p3, n_3#2_p5], right node = [n_2#1_p2, n_3#2_p6]\n",
      "tbum_2#2_3#3_nd : left node = [n_2#2_p3, n_3#3_p5], right node = [n_2#2_p2, n_3#3_p6]\n",
      "tbum_2#3_3#4_nd : left node = [n_2#3_p3, n_3#4_p5], right node = [n_2#3_p2, n_3#4_p6]\n",
      "tbum_2#2_3#4_nd : left node = [n_2#2_p4, n_3#4_p6], right node = [n_2#2_p3, n_3#4_p1]\n",
      "tbum_2#3_3#5_nd : left node = [n_2#3_p4, n_3#5_p6], right node = [n_2#3_p3, n_3#5_p1]\n",
      "tbum_2#4_3#6_nd : left node = [n_2#4_p4, n_3#6_p6], right node = [n_2#4_p3, n_3#6_p1]\n",
      "tbum_2#3_3#6_nd : left node = [n_2#3_p5, n_3#6_p1], right node = [n_2#3_p4, n_3#6_p2]\n",
      "tbum_2#4_3#7_nd : left node = [n_2#4_p5, n_3#7_p1], right node = [n_2#4_p4, n_3#7_p2]\n",
      "tbum_2#5_3#8_nd : left node = [n_2#5_p5, n_3#8_p1], right node = [n_2#5_p4, n_3#8_p2]\n",
      "tbum_2#4_3#8_nd : left node = [n_2#4_p6, n_3#8_p2], right node = [n_2#4_p5, n_3#8_p3]\n",
      "tbum_2#5_3#9_nd : left node = [n_2#5_p6, n_3#9_p2], right node = [n_2#5_p5, n_3#9_p3]\n",
      "tbum_2#6_3#10_nd : left node = [n_2#6_p6, n_3#10_p2], right node = [n_2#6_p5, n_3#10_p3]\n"
     ]
    }
   ],
   "source": [
    "from spode.core import Circuit, FreeLightSpeed\n",
    "from spode.util import Generator\n",
    "import numpy as np \n",
    "\n",
    "init_dict = {'theta': 0.0 * np.pi, 'phi': 0.0 * np.pi, 'l': 250e-6}\n",
    "square_generator = Generator('hexagonal_1', [2])\n",
    "\n",
    "circuit_element = square_generator.generate(init_dict)\n",
    "\n",
    "for k,v in circuit_element.items():\n",
    "    print(\"%s : left node = [%s, %s], right node = [%s, %s]\" %(k, v['ln'][0], v['ln'][1], v['rn'][0], v['rn'][1]))"
   ]
  },
  {
   "cell_type": "markdown",
   "metadata": {},
   "source": [
    "We have printed the generated TBUs and their nodes. In the following, we show all naming rules in our hexagonal mesh generator. For drawing conciseness, we have use one line segment to represent on TBU. As readers could pick one TBU and check, it satisfies rules (ii)-(v).\n",
    "\n",
    "<img src=\"figs/hexagonal_naming1.png\" width=\"900\" align=\"center\"/>\n",
    "\n",
    "<img src=\"figs/hexagonal_naming2.png\" width=\"800\" align=\"center\"/>"
   ]
  },
  {
   "cell_type": "markdown",
   "metadata": {},
   "source": [
    "### Generator III: Parallelogram Triangular Mesh"
   ]
  },
  {
   "cell_type": "code",
   "execution_count": 3,
   "metadata": {},
   "outputs": [
    {
     "name": "stdout",
     "output_type": "stream",
     "text": [
      "tbum_1#0_1#1_t : left node = [n_1#0_p1, n_1#1_p3], right node = [n_1#0_p3, n_1#1_p1]\n",
      "tbum_1#1_1#2_t : left node = [n_1#1_p3, n_1#2_p2], right node = [n_1#1_p2, n_1#2_p3]\n",
      "tbum_1#2_1#3_t : left node = [n_1#2_p1, n_1#3_p3], right node = [n_1#2_p3, n_1#3_p1]\n",
      "tbum_1#3_1#4_t : left node = [n_1#3_p3, n_1#4_p2], right node = [n_1#3_p2, n_1#4_p3]\n",
      "tbum_1#4_1#5_t : left node = [n_1#4_p1, n_1#5_p3], right node = [n_1#4_p3, n_1#5_p1]\n",
      "tbum_2#0_2#1_t : left node = [n_2#0_p1, n_2#1_p3], right node = [n_2#0_p3, n_2#1_p1]\n",
      "tbum_2#1_2#2_t : left node = [n_2#1_p3, n_2#2_p2], right node = [n_2#1_p2, n_2#2_p3]\n",
      "tbum_2#2_2#3_t : left node = [n_2#2_p1, n_2#3_p3], right node = [n_2#2_p3, n_2#3_p1]\n",
      "tbum_2#3_2#4_t : left node = [n_2#3_p3, n_2#4_p2], right node = [n_2#3_p2, n_2#4_p3]\n",
      "tbum_2#4_2#5_t : left node = [n_2#4_p1, n_2#5_p3], right node = [n_2#4_p3, n_2#5_p1]\n",
      "tbum_0#2_1#1_h : left node = [n_0#2_p2, n_1#1_p1], right node = [n_0#2_p1, n_1#1_p2]\n",
      "tbum_0#4_1#3_h : left node = [n_0#4_p2, n_1#3_p1], right node = [n_0#4_p1, n_1#3_p2]\n",
      "tbum_1#2_2#1_h : left node = [n_1#2_p2, n_2#1_p1], right node = [n_1#2_p1, n_2#1_p2]\n",
      "tbum_1#4_2#3_h : left node = [n_1#4_p2, n_2#3_p1], right node = [n_1#4_p1, n_2#3_p2]\n",
      "tbum_2#2_3#1_h : left node = [n_2#2_p2, n_3#1_p1], right node = [n_2#2_p1, n_3#1_p2]\n",
      "tbum_2#4_3#3_h : left node = [n_2#4_p2, n_3#3_p1], right node = [n_2#4_p1, n_3#3_p2]\n"
     ]
    }
   ],
   "source": [
    "from spode.core import Circuit, FreeLightSpeed\n",
    "from spode.util import Generator\n",
    "import numpy as np \n",
    "\n",
    "init_dict = {'theta': 0.0 * np.pi, 'phi': 0.0 * np.pi, 'l': 250e-6}\n",
    "square_generator = Generator('triangular_1', [2,4])\n",
    "\n",
    "circuit_element = square_generator.generate(init_dict)\n",
    "\n",
    "for k,v in circuit_element.items():\n",
    "    print(\"%s : left node = [%s, %s], right node = [%s, %s]\" %(k, v['ln'][0], v['ln'][1], v['rn'][0], v['rn'][1]))"
   ]
  },
  {
   "cell_type": "markdown",
   "metadata": {},
   "source": [
    "We have printed the generated TBUs and their nodes. In the following, we show all naming rules in our parallelogram triangular mesh generator. For drawing conciseness, we have use one line segment to represent on TBU. As readers could pick one TBU and check, it satisfies rules (ii)-(v).\n",
    "\n",
    "<img src=\"figs/triangular_naming.png\" width=\"1000\" align=\"center\"/>"
   ]
  },
  {
   "cell_type": "markdown",
   "metadata": {},
   "source": [
    "## Summary\n",
    "\n",
    "In an ideal case, where both ```left DC``` and ```right DC``` achieve 50%:50% power splitting, we don't need to distinguish the left and right ports. This has been explained at the end of the introduction. In this case, it is still of crucial importance to understand which arm contains ```theta/phi```. As an example, if we perform optimization to synthesize light processing functions, we need to correctly interpret the obtained phase shifts from the optimization, and map them correcly onto the circuit. Without knowing which arm contains ```theta/phi``` , we need to try $2^N$ times, where $N$ is the number of TBUs in the circuit. This will be more clear in the later notebook when we illustrate how to use gradient-descent optimization to synthesize light processing functions.\n",
    "\n",
    "In a non-ideal case, where ```left DC!=right DC```, we not only need to be clear about which arm contains ```theta/phi```, we also need to understand which is the left/right port. However, we should mention that even in real applications, we usually won't encounter this situation. Because the left and right DCs are designed to achieve 50%:50% power splitting, and even if due to process variations, they usually deviate from 50%:50% by the same amount. This will be more clear in the later notebook when we illustrate how to perform statistical analysis on the circuit using Spode."
   ]
  },
  {
   "cell_type": "markdown",
   "metadata": {},
   "source": [
    "## Appendix\n",
    "\n",
    "Here we provide more examples on how to correclty define a TBU in the simulator. Readers should try to first think on themselves to tackle the following examples:\n",
    "\n",
    "<img src=\"figs/one_tbu_append.png\" width=\"500\" align=\"center\"/>\n",
    "\n",
    "solution:\n",
    "\n",
    "```\n",
    "circuit_case_s1 = {'tbum1': {'ln': ['na', 'nc'],   'rn': ['ne', 'nb'], 'theta':  x, 'phi': y, 'l': z}}\n",
    "circuit_case_s2 = {'tbum1': {'ln': ['nl', 'nd3'],  'rn': ['n2', 'nc'], 'theta':  x, 'phi': y, 'l': z}}\n",
    "circuit_case_s3 = {'tbum1': {'ln': ['zq', 'zh'],   'rn': ['pd', 'mm'], 'theta':  x, 'phi': y, 'l': z}}\n",
    "circuit_case_s4 = {'tbum1': {'ln': ['m1m', 'pdd'], 'rn': ['po', 'pq'], 'theta':  x, 'phi': y, 'l': z}}\n",
    "\n",
    "```"
   ]
  }
 ],
 "metadata": {
  "kernelspec": {
   "display_name": "Python 3",
   "language": "python",
   "name": "python3"
  },
  "language_info": {
   "codemirror_mode": {
    "name": "ipython",
    "version": 3
   },
   "file_extension": ".py",
   "mimetype": "text/x-python",
   "name": "python",
   "nbconvert_exporter": "python",
   "pygments_lexer": "ipython3",
   "version": "3.8.5"
  }
 },
 "nbformat": 4,
 "nbformat_minor": 1
}
