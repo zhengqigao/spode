{
 "cells": [
  {
   "cell_type": "markdown",
   "metadata": {},
   "source": [
    "# Introduction\n",
    "\n",
    "**This notebook will approximately take 20 mins**. In the previous Lesson 2, we have briefly touched our built-in circuit generation and naming rules, but we haven't explained which arm of the TBU is ```theta```, and which arm is ```phi```. We just show the example as it is in Lesson 2. In this notebook, we will explain all details about circuit generation in ```Spode```, so that users could realize their own examples correctly and quickly. Moreover, besides the previous square mesh, we will demonstrate two other frequently used circuit generators: a concentric hexagonal mesh, a parallelogram triangular mesh.\n",
    "\n",
    "**Note**: Readers are highly encouraged to first read tutorial Lesson 2 before running this notebook. Please make sure you start a jupyter notebook in the folder 'lesson3_circuit_generator'. Otherwise, the image imported below might not display correcly."
   ]
  },
  {
   "cell_type": "markdown",
   "metadata": {},
   "source": [
    "## Part I: Basical Naming --- W/O Cell"
   ]
  },
  {
   "cell_type": "markdown",
   "metadata": {},
   "source": [
    "Before going into the main text, here we want to emphasize the correct way to define a TBU model. What we now attempt to convey is a clear way to define the TBU model without ambiguity. But, wait... Where is the ambiguity exactly? For readers who have this question, please try thinking of how to define the following TBUs in the simulator:\n",
    "\n",
    "<img src=\"figs/one_tbu.png\" width=\"500\" align=\"center\"/>\n",
    "\n",
    "Obviously, we want one specific definition for one case (i.e., a one-to-one mapping). It is of crucial importance that the naming convention could distinguish these cases without confusion, especially when ```theta != phi``` or ```left DC != Right DC```.\n",
    "\n",
    "Our naming rule is as follows:\n",
    "\n",
    "```\n",
    "‘TbuName’: {‘ln’: [a, b], ‘rn’:[c, d], ‘theta’: x, ‘phi’: y, ‘l’: z}\n",
    "```\n",
    "\n",
    "where ```x,y,z``` are some scalar values, ```a,b,c,d``` are node names: \n",
    "\n",
    "```\n",
    "a = the node connected directly to the left DC, and on the same row with theta\n",
    "b = the node connected directly to the left DC, and on the same row with phi\n",
    "\n",
    "c = the node connected directly to the right DC, and on the same row with theta\n",
    "d = the node connected directly to the right DC, and on the same row with phi\n",
    "```\n",
    "\n",
    "```TbuName``` is a string starting with a correct TBU model name, either built in (such as ```tbum```,```tbut```,```tbuo```) or user defined. Following this naming rule, four the above four cases, the definitions should be:\n",
    "\n",
    "```\n",
    "circuit_case1 = {'tbum1': {'ln': ['n1', 'n2'], 'rn': ['n3', 'n4'], 'theta':  x, 'phi': y, 'l': z}}\n",
    "circuit_case2 = {'tbum1': {'ln': ['n2', 'n1'], 'rn': ['n4', 'n3'], 'theta':  x, 'phi': y, 'l': z}}\n",
    "circuit_case3 = {'tbum1': {'ln': ['n3', 'n4'], 'rn': ['n1', 'n2'], 'theta':  x, 'phi': y, 'l': z}}\n",
    "circuit_case4 = {'tbum1': {'ln': ['n4', 'n3'], 'rn': ['n2', 'n1'], 'theta':  x, 'phi': y, 'l': z}}\n",
    "\n",
    "```\n",
    "\n",
    "In an ideal case where both left and right DC achieve 50%:50% power splitting, ```case1``` is the same as ```case3```, and ```case2``` is the same as ```case4```. In other words, this implies that if ```left DC == Right DC```, then we could exchange the values of ```ln``` and ```rn``` (i.e., no need to distinguish left and right).\n",
    "\n",
    "If readers still want to try more examples, please refer to the Appendix of this notebook. There we provide extra examples (including a TBU placed vertically)."
   ]
  },
  {
   "cell_type": "markdown",
   "metadata": {},
   "source": [
    "## Part II: Advanced Naming --- W/ Cell"
   ]
  },
  {
   "cell_type": "markdown",
   "metadata": {},
   "source": [
    "Thus far, readers should be able to define a circuit, following our naming rule introduced in Part I. This is exactly what we have done in Lesson 1 and Lesson 2. This basical naming is easy and convenient. As we also show in Lesson 2, defining a 2 by 2 sqaure mesh already needs 12 TBUs, manually defining the ```circuit_element``` is tedious, and an automatic schematic generation function was provided. The automatically generated ```circuit_element``` doesn't follow the above basical naming rules, but the advanced naming rules illustrated below.\n"
   ]
  },
  {
   "cell_type": "markdown",
   "metadata": {},
   "source": [
    "In Lesson 2, we demonstrate how to automatically produce a 2 by 2 square mesh. However, we didn't explain how the generator decides, for one specific TBU, which arm contains phase shift ```theta``` and which arm contains ```phi```. Note that this should be readily clear if you inspect the generated ```ln``` and ```rn``` of the ```circuit_element```, by applying our basical naming rules demonstrated above. As readers could verify by themselves, it is consistent with the manually generated schematic in Part I of Lesson 2. To relieve readers from painfully doing this on themselves and help readers understand better about the generating function in ```Spode```, we will now explain its detailed behaviours."
   ]
  },
  {
   "cell_type": "markdown",
   "metadata": {},
   "source": [
    "### Placement I: Square Mesh"
   ]
  },
  {
   "cell_type": "code",
   "execution_count": 1,
   "metadata": {},
   "outputs": [],
   "source": [
    "from spode.util import generate\n",
    "import numpy as np \n",
    "\n",
    "init_dict = {'theta': 0.0 * np.pi, 'phi': 0.0 * np.pi, 'l': 250e-6}"
   ]
  },
  {
   "cell_type": "code",
   "execution_count": 2,
   "metadata": {},
   "outputs": [
    {
     "name": "stdout",
     "output_type": "stream",
     "text": [
      "tbum_1#1_1#0_v : left node = [n_1#1_bl, n_1#0_br], right node = [n_1#1_tl, n_1#0_tr]\n",
      "tbum_1#2_1#1_v : left node = [n_1#2_bl, n_1#1_br], right node = [n_1#2_tl, n_1#1_tr]\n",
      "tbum_1#3_1#2_v : left node = [n_1#3_bl, n_1#2_br], right node = [n_1#3_tl, n_1#2_tr]\n",
      "tbum_2#1_2#0_v : left node = [n_2#1_bl, n_2#0_br], right node = [n_2#1_tl, n_2#0_tr]\n",
      "tbum_2#2_2#1_v : left node = [n_2#2_bl, n_2#1_br], right node = [n_2#2_tl, n_2#1_tr]\n",
      "tbum_2#3_2#2_v : left node = [n_2#3_bl, n_2#2_br], right node = [n_2#3_tl, n_2#2_tr]\n",
      "tbum_0#1_1#1_h : left node = [n_0#1_br, n_1#1_tr], right node = [n_0#1_bl, n_1#1_tl]\n",
      "tbum_0#2_1#2_h : left node = [n_0#2_br, n_1#2_tr], right node = [n_0#2_bl, n_1#2_tl]\n",
      "tbum_1#1_2#1_h : left node = [n_1#1_br, n_2#1_tr], right node = [n_1#1_bl, n_2#1_tl]\n",
      "tbum_1#2_2#2_h : left node = [n_1#2_br, n_2#2_tr], right node = [n_1#2_bl, n_2#2_tl]\n",
      "tbum_2#1_3#1_h : left node = [n_2#1_br, n_3#1_tr], right node = [n_2#1_bl, n_3#1_tl]\n",
      "tbum_2#2_3#2_h : left node = [n_2#2_br, n_3#2_tr], right node = [n_2#2_bl, n_3#2_tl]\n"
     ]
    }
   ],
   "source": [
    "# generate square mesh\n",
    "\n",
    "circuit_element = generate('square_1', [2, 2], init_dict)\n",
    "\n",
    "for k,v in circuit_element.items():\n",
    "    print(\"%s : left node = [%s, %s], right node = [%s, %s]\" %(k, v['ln'][0], v['ln'][1], v['rn'][0], v['rn'][1]))"
   ]
  },
  {
   "cell_type": "markdown",
   "metadata": {},
   "source": [
    "We have printed the generated TBUs and their nodes. In the following, we show all naming rules in the square mesh generator. As readers could pick one TBU and check, it satisfies rules (ii)-(v).\n",
    "\n",
    "<img src=\"figs/square_naming.png\" width=\"900\" align=\"center\"/>\n"
   ]
  },
  {
   "cell_type": "markdown",
   "metadata": {},
   "source": [
    "After providing other necessary parameters, we could run the simulation by the following command.\n",
    "```\n",
    "circuit = Circuit(circuit_element=circuit_element,\n",
    "                  mode_info=?,\n",
    "                  omega=?,\n",
    "                  srce_node=?,\n",
    "                  prob_node=?,\n",
    "                  deri_node=?,\n",
    "                  deri_vari=?)\n",
    "\n",
    "response = circuit.solve(require_grads=?)\n",
    "```\n",
    "\n",
    "All the places marked by ```?``` need to be specified by the users."
   ]
  },
  {
   "cell_type": "markdown",
   "metadata": {},
   "source": [
    "### Placement II: Concentric Hexagonal Mesh"
   ]
  },
  {
   "cell_type": "code",
   "execution_count": 3,
   "metadata": {},
   "outputs": [
    {
     "name": "stdout",
     "output_type": "stream",
     "text": [
      "tbum_1#1_2#6_nd : left node = [n_1#1_p6, n_2#6_p4], right node = [n_1#1_p1, n_2#6_p3]\n",
      "tbum_1#1_2#1_nd : left node = [n_1#1_p1, n_2#1_p5], right node = [n_1#1_p2, n_2#1_p4]\n",
      "tbum_1#1_2#2_nd : left node = [n_1#1_p2, n_2#2_p6], right node = [n_1#1_p3, n_2#2_p5]\n",
      "tbum_1#1_2#3_nd : left node = [n_1#1_p3, n_2#3_p1], right node = [n_1#1_p4, n_2#3_p6]\n",
      "tbum_1#1_2#4_nd : left node = [n_1#1_p4, n_2#4_p2], right node = [n_1#1_p5, n_2#4_p1]\n",
      "tbum_1#1_2#5_nd : left node = [n_1#1_p5, n_2#5_p3], right node = [n_1#1_p6, n_2#5_p2]\n",
      "tbum_2#1_2#2_rd : left node = [n_2#1_p3, n_2#2_p1], right node = [n_2#1_p4, n_2#2_p6]\n",
      "tbum_2#2_2#3_rd : left node = [n_2#2_p4, n_2#3_p2], right node = [n_2#2_p5, n_2#3_p1]\n",
      "tbum_2#3_2#4_rd : left node = [n_2#3_p5, n_2#4_p3], right node = [n_2#3_p6, n_2#4_p2]\n",
      "tbum_2#4_2#5_rd : left node = [n_2#4_p6, n_2#5_p4], right node = [n_2#4_p1, n_2#5_p3]\n",
      "tbum_2#5_2#6_rd : left node = [n_2#5_p1, n_2#6_p5], right node = [n_2#5_p2, n_2#6_p4]\n",
      "tbum_2#6_2#1_rd : left node = [n_2#6_p2, n_2#1_p6], right node = [n_2#6_p3, n_2#1_p5]\n",
      "tbum_2#5_3#10_nd : left node = [n_2#5_p6, n_3#10_p4], right node = [n_2#5_p1, n_3#10_p3]\n",
      "tbum_2#6_3#11_nd : left node = [n_2#6_p6, n_3#11_p4], right node = [n_2#6_p1, n_3#11_p3]\n",
      "tbum_2#1_3#12_nd : left node = [n_2#1_p6, n_3#12_p4], right node = [n_2#1_p1, n_3#12_p3]\n",
      "tbum_2#6_3#12_nd : left node = [n_2#6_p1, n_3#12_p5], right node = [n_2#6_p2, n_3#12_p4]\n",
      "tbum_2#1_3#1_nd : left node = [n_2#1_p1, n_3#1_p5], right node = [n_2#1_p2, n_3#1_p4]\n",
      "tbum_2#2_3#2_nd : left node = [n_2#2_p1, n_3#2_p5], right node = [n_2#2_p2, n_3#2_p4]\n",
      "tbum_2#1_3#2_nd : left node = [n_2#1_p2, n_3#2_p6], right node = [n_2#1_p3, n_3#2_p5]\n",
      "tbum_2#2_3#3_nd : left node = [n_2#2_p2, n_3#3_p6], right node = [n_2#2_p3, n_3#3_p5]\n",
      "tbum_2#3_3#4_nd : left node = [n_2#3_p2, n_3#4_p6], right node = [n_2#3_p3, n_3#4_p5]\n",
      "tbum_2#2_3#4_nd : left node = [n_2#2_p3, n_3#4_p1], right node = [n_2#2_p4, n_3#4_p6]\n",
      "tbum_2#3_3#5_nd : left node = [n_2#3_p3, n_3#5_p1], right node = [n_2#3_p4, n_3#5_p6]\n",
      "tbum_2#4_3#6_nd : left node = [n_2#4_p3, n_3#6_p1], right node = [n_2#4_p4, n_3#6_p6]\n",
      "tbum_2#3_3#6_nd : left node = [n_2#3_p4, n_3#6_p2], right node = [n_2#3_p5, n_3#6_p1]\n",
      "tbum_2#4_3#7_nd : left node = [n_2#4_p4, n_3#7_p2], right node = [n_2#4_p5, n_3#7_p1]\n",
      "tbum_2#5_3#8_nd : left node = [n_2#5_p4, n_3#8_p2], right node = [n_2#5_p5, n_3#8_p1]\n",
      "tbum_2#4_3#8_nd : left node = [n_2#4_p5, n_3#8_p3], right node = [n_2#4_p6, n_3#8_p2]\n",
      "tbum_2#5_3#9_nd : left node = [n_2#5_p5, n_3#9_p3], right node = [n_2#5_p6, n_3#9_p2]\n",
      "tbum_2#6_3#10_nd : left node = [n_2#6_p5, n_3#10_p3], right node = [n_2#6_p6, n_3#10_p2]\n"
     ]
    }
   ],
   "source": [
    "# generate hexagonal mesh\n",
    "\n",
    "circuit_element = generate('hexagonal_1', [2], init_dict)\n",
    "\n",
    "for k,v in circuit_element.items():\n",
    "    print(\"%s : left node = [%s, %s], right node = [%s, %s]\" %(k, v['ln'][0], v['ln'][1], v['rn'][0], v['rn'][1]))"
   ]
  },
  {
   "cell_type": "markdown",
   "metadata": {},
   "source": [
    "We have printed the generated TBUs and their nodes. In the following, we show all naming rules in the hexagonal mesh generator. For drawing conciseness, we have use one line segment to represent a TBU. As readers could pick one TBU and check, it satisfies rules (ii)-(v).\n",
    "\n",
    "<img src=\"figs/hexagonal_naming1.png\" width=\"900\" align=\"center\"/>\n",
    "\n",
    "<img src=\"figs/hexagonal_naming2.png\" width=\"800\" align=\"center\"/>"
   ]
  },
  {
   "cell_type": "markdown",
   "metadata": {},
   "source": [
    "### Placement III: Parallelogram Triangular Mesh"
   ]
  },
  {
   "cell_type": "code",
   "execution_count": 4,
   "metadata": {},
   "outputs": [
    {
     "name": "stdout",
     "output_type": "stream",
     "text": [
      "tbum_1#0_1#1_t : left node = [n_1#0_p3, n_1#1_p1], right node = [n_1#0_p1, n_1#1_p3]\n",
      "tbum_1#1_1#2_t : left node = [n_1#1_p2, n_1#2_p3], right node = [n_1#1_p3, n_1#2_p2]\n",
      "tbum_1#2_1#3_t : left node = [n_1#2_p3, n_1#3_p1], right node = [n_1#2_p1, n_1#3_p3]\n",
      "tbum_1#3_1#4_t : left node = [n_1#3_p2, n_1#4_p3], right node = [n_1#3_p3, n_1#4_p2]\n",
      "tbum_1#4_1#5_t : left node = [n_1#4_p3, n_1#5_p1], right node = [n_1#4_p1, n_1#5_p3]\n",
      "tbum_2#0_2#1_t : left node = [n_2#0_p3, n_2#1_p1], right node = [n_2#0_p1, n_2#1_p3]\n",
      "tbum_2#1_2#2_t : left node = [n_2#1_p2, n_2#2_p3], right node = [n_2#1_p3, n_2#2_p2]\n",
      "tbum_2#2_2#3_t : left node = [n_2#2_p3, n_2#3_p1], right node = [n_2#2_p1, n_2#3_p3]\n",
      "tbum_2#3_2#4_t : left node = [n_2#3_p2, n_2#4_p3], right node = [n_2#3_p3, n_2#4_p2]\n",
      "tbum_2#4_2#5_t : left node = [n_2#4_p3, n_2#5_p1], right node = [n_2#4_p1, n_2#5_p3]\n",
      "tbum_0#2_1#1_h : left node = [n_0#2_p1, n_1#1_p2], right node = [n_0#2_p2, n_1#1_p1]\n",
      "tbum_0#4_1#3_h : left node = [n_0#4_p1, n_1#3_p2], right node = [n_0#4_p2, n_1#3_p1]\n",
      "tbum_1#2_2#1_h : left node = [n_1#2_p1, n_2#1_p2], right node = [n_1#2_p2, n_2#1_p1]\n",
      "tbum_1#4_2#3_h : left node = [n_1#4_p1, n_2#3_p2], right node = [n_1#4_p2, n_2#3_p1]\n",
      "tbum_2#2_3#1_h : left node = [n_2#2_p1, n_3#1_p2], right node = [n_2#2_p2, n_3#1_p1]\n",
      "tbum_2#4_3#3_h : left node = [n_2#4_p1, n_3#3_p2], right node = [n_2#4_p2, n_3#3_p1]\n"
     ]
    }
   ],
   "source": [
    "# generate triangular mesh\n",
    "\n",
    "circuit_element = generate('triangular_1', [2,4], init_dict)\n",
    "\n",
    "\n",
    "for k,v in circuit_element.items():\n",
    "    print(\"%s : left node = [%s, %s], right node = [%s, %s]\" %(k, v['ln'][0], v['ln'][1], v['rn'][0], v['rn'][1]))"
   ]
  },
  {
   "cell_type": "markdown",
   "metadata": {},
   "source": [
    "We have printed the generated TBUs and their nodes. In the following, we show all naming rules in the parallelogram triangular mesh generator. For drawing conciseness, we have use one line segment to represent on TBU. As readers could pick one TBU and check, it satisfies rules (ii)-(v).\n",
    "\n",
    "<img src=\"figs/triangular_naming.png\" width=\"1000\" align=\"center\"/>"
   ]
  },
  {
   "cell_type": "markdown",
   "metadata": {},
   "source": [
    "### Complete Rules of Advanced Naming\n",
    "\n",
    "Clever readers might already observe that in the above three different placements, there are some common strategies. Here we formally explain the details of the advanced naming rules. Finally, as an example, we show the similarities and differences of using basical and advanced naming rules to define ```Case 2```. \n",
    "\n",
    "**TBU Format**: The advanced naming requires a concept called ```Cell```. We use the format: ```tbum_Cell1_Cell2_suffix```. It represents a TBU componenet at the intersection of ```Cell1``` and ```Cell2```, and it uses the ```tbum``` circuit model. Note besides ```tbum```, other built-in circuit models such as ```tbuo```, ```tbut```, or user-defined models are also valid options. As an example, ```suffix``` in square mesh could be ```{v,h}```, in hexagonal mesh could be ```{rd,nd}```. ```suffix``` actually is not important (optional), only working as a remainder, since knowing ```Cell1``` and ```Cell2``` could uniquely pinpoint the TBU. \n",
    "\n",
    "\n",
    "**Node Format**: We use the format: ```n_Cell1_identifier```. It represents a node belonging to ```Cell1``` and identified by ```identifier``` in this particular cell. For instance, ```identifier``` could be ```{tl,tr,bl,br}``` in a square mesh, ```{p1,p2,p3,p4,p5,p6}``` in a hexagonal mesh. \n",
    "\n",
    "Two implicit rules are adopted for an entry ```tbum_Cell1_Cell2_suffix: {'ln': [], 'rn': [], ...}```in ```circuit_element```. If we define two vectors:\n",
    "\n",
    "```\n",
    "Vector1 = from Cell1 center to Cell2 center\n",
    "Vector2 = from rn[0] to ln[0] (or, equivalently, from rn[1] to ln[1])\n",
    "```\n",
    "\n",
    "**Rule (i)**: ```Vector2``` could always be obtained by rotating ```Vector1``` 90 degree counter clockwise. \n",
    "\n",
    "**Rule (ii)**: ```ln[0]``` and ```rn[0]``` must be nodes belonging to ```Cell1```, and ```ln[1]``` and ```rn[1]``` must be nodes belonging to ```Cell2```.\n",
    "\n",
    "Readers could verify by themselves, all the above automaticaly generated square, hexagonal, triangular meshes satisfy these rules. Now, we re-visit ```Case 2``` in Part I, and compare basical naming and advanced naming. For readers' convenience, we have re-plotted ```Case 2``` below.\n",
    "\n",
    "<img src=\"figs/comparison.png\" width=\"600\" align=\"center\"/>\n",
    "\n",
    "\n",
    "```\n",
    "# use basical naming\n",
    "circuit_basic = {'tbum1': {'ln': ['n2', 'n1'], 'rn': ['n4', 'n3']...}\n",
    "\n",
    "# use advanced naming, 'suffix' is optional, '{id1,id2,id3,id4}' are identifiers.\n",
    "circuit_adv = {'tbum_aa_bb_suffix': {'ln': ['n_aa_id2', 'n_bb_id1'], 'rn': ['n_aa_id4', 'n_bb_id3'], ...}\n",
    "```\n",
    "\n",
    "Note that for this example,\n",
    "\n",
    "``` \n",
    "{'tbum_aa_bb_suffix': {'ln': ['n_aa_id4', 'n_bb_id3'], 'rn': ['n_aa_id2', 'n_bb_id1'], ...}\n",
    "```\n",
    "\n",
    "is not a valid entry under advanced naming, since it violtaes rule (i). However, it does satisfy the basical naming. To this end, we want to be clear that the advanced naming in ```Spode``` is for visualization purpose. **Following the advanced naming rules (i.e., TBU and port naming format and rule (i)-(ii)), provides you the convenience to utilize the built-in visualization functions for any circuit**. If you only want to perform the simulation and do not need visualization, using basical naming is completely fine (as we have done in Lesson 1 and Lesson 2). However, if you want to take advantage of the built-in visualization functions, you must follow the advanced naming rules. We will re-visit this topic again in the notebook on visualization."
   ]
  },
  {
   "cell_type": "markdown",
   "metadata": {},
   "source": [
    "## Part III: Summary\n",
    "\n",
    "In an ideal case, where both ```left DC``` and ```right DC``` achieve 50%:50% power splitting, we don't need to distinguish the left and right nodes. This has been explained at the end of the introduction. In this case, it is still of crucial importance to understand which arm contains ```theta/phi```. As an example, if we perform optimization to synthesize light processing functions, we need to correctly interpret the obtained phase shifts from the optimization, and map them correcly onto the circuit. Without knowing which arm contains ```theta/phi``` , we need to try $2^N$ times, where $N$ is the number of TBUs in the circuit. This will be more clear in the later notebook when we illustrate how to use gradient-descent optimization to synthesize light processing functions.\n",
    "\n",
    "In a non-ideal case, where ```left DC!=right DC```, we not only need to be clear about which arm contains ```theta/phi```, we also need to understand which is the left/right port. However, we should mention that even in real applications, we usually won't encounter this situation. Because the left and right DCs are designed to achieve 50%:50% power splitting, and even if due to process variations, they usually deviate from 50%:50% by the same amount. This will be more clear in the later notebook when we illustrate how to perform statistical analysis on the circuit using ```Spode```."
   ]
  },
  {
   "cell_type": "markdown",
   "metadata": {},
   "source": [
    "## Appendix\n",
    "\n",
    "Here we provide more examples on how to correclty define a TBU in the simulator. Readers should try to first think on themselves to tackle the following examples:\n",
    "\n",
    "<img src=\"figs/one_tbu_append.png\" width=\"500\" align=\"center\"/>\n",
    "\n",
    "solution:\n",
    "\n",
    "```\n",
    "circuit_case_s1 = {'tbum1': {'ln': ['na', 'nc'],   'rn': ['ne', 'nb'], 'theta':  x, 'phi': y, 'l': z}}\n",
    "circuit_case_s2 = {'tbum1': {'ln': ['nl', 'nd3'],  'rn': ['n2', 'nc'], 'theta':  x, 'phi': y, 'l': z}}\n",
    "circuit_case_s3 = {'tbum1': {'ln': ['zq', 'zh'],   'rn': ['pd', 'mm'], 'theta':  x, 'phi': y, 'l': z}}\n",
    "circuit_case_s4 = {'tbum1': {'ln': ['m1m', 'pdd'], 'rn': ['po', 'pq'], 'theta':  x, 'phi': y, 'l': z}}\n",
    "\n",
    "```"
   ]
  }
 ],
 "metadata": {
  "kernelspec": {
   "display_name": "Python 3",
   "language": "python",
   "name": "python3"
  },
  "language_info": {
   "codemirror_mode": {
    "name": "ipython",
    "version": 3
   },
   "file_extension": ".py",
   "mimetype": "text/x-python",
   "name": "python",
   "nbconvert_exporter": "python",
   "pygments_lexer": "ipython3",
   "version": "3.8.5"
  }
 },
 "nbformat": 4,
 "nbformat_minor": 1
}