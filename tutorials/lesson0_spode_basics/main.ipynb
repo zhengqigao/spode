{
 "cells": [
  {
   "cell_type": "code",
   "execution_count": 1,
   "metadata": {
    "pycharm": {
     "is_executing": true
    }
   },
   "outputs": [],
   "source": [
    "from spode.core import WaveGuide, PhaseShift, DirectionalCoupler, TBUm, GeneralModel, register_model, reset_model_json\n",
    "import numpy as np"
   ]
  },
  {
   "cell_type": "code",
   "execution_count": 2,
   "metadata": {},
   "outputs": [],
   "source": [
    "omega = np.linspace(0, 10, 10)"
   ]
  },
  {
   "cell_type": "code",
   "execution_count": 3,
   "metadata": {},
   "outputs": [
    {
     "name": "stdout",
     "output_type": "stream",
     "text": [
      "Attribute L = 3.00e+00\n",
      "Attribute neff = 2.00e+00\n",
      "Attribute ng = 2.00e+00\n",
      "Attribute wl = None\n",
      "Attribute alpha = 1.00e+00\n",
      "(10, 1, 1)\n",
      "---\n"
     ]
    }
   ],
   "source": [
    "wg = WaveGuide(L=3., neff=2.)\n",
    "wg.print_allattr()\n",
    "S1 = wg.get_smatrix(omega)\n",
    "print(S1.shape)\n",
    "print('---')"
   ]
  },
  {
   "cell_type": "code",
   "execution_count": 4,
   "metadata": {},
   "outputs": [
    {
     "name": "stdout",
     "output_type": "stream",
     "text": [
      "Attribute ps = 3.14e-01\n",
      "(10, 1, 1)\n",
      "---\n"
     ]
    }
   ],
   "source": [
    "ps = PhaseShift(ps=0.1 * np.pi)\n",
    "ps.print_allattr()\n",
    "S2 = ps.get_smatrix(omega)\n",
    "print(S2.shape)\n",
    "print('---')"
   ]
  },
  {
   "cell_type": "code",
   "execution_count": 5,
   "metadata": {},
   "outputs": [
    {
     "name": "stdout",
     "output_type": "stream",
     "text": [
      "Attribute cp_angle = 6.28e-01\n",
      "Attribute alpha = 1.00e+00\n",
      "(10, 2, 2)\n",
      "---\n"
     ]
    }
   ],
   "source": [
    "dc = DirectionalCoupler(**{'cp_angle': 0.2 * np.pi})\n",
    "dc.print_allattr()\n",
    "S3 = dc.get_smatrix(omega)\n",
    "print(S3.shape)\n",
    "print('---')"
   ]
  },
  {
   "cell_type": "code",
   "execution_count": 6,
   "metadata": {},
   "outputs": [
    {
     "name": "stdout",
     "output_type": "stream",
     "text": [
      "Attribute theta = 0.00e+00\n",
      "Attribute phi = 0.00e+00\n",
      "Attribute L = 2.50e-04\n",
      "Attribute neff = 2.35e+00\n",
      "Attribute ng = 0.00e+00\n",
      "Attribute wl = None\n",
      "Attribute alpha = 1.00e+00\n",
      "Attribute cp_left = 7.85e-01\n",
      "Attribute cp_right = 7.85e-01\n",
      "(10, 2, 2)\n",
      "---\n"
     ]
    },
    {
     "name": "stderr",
     "output_type": "stream",
     "text": [
      "/Users/zhengqigao/opt/anaconda3/lib/python3.8/site-packages/spode/core/model.py:358: UserWarning: The variable 'direction' should be either 'l2r' or 'r2l' when building S matrix. Automatically use 'direction'='l2r'. This might lead to error, if the two directional couplers in the tbum are not identical.\n",
      "  warnings.warn(\"The variable 'direction' should be either 'l2r' or 'r2l' when building S matrix. \"\n"
     ]
    }
   ],
   "source": [
    "tbum = TBUm(**{'theta': 0., 'phi': 0., 'L': 250e-6, 'neff': 2.35})\n",
    "tbum.print_allattr()\n",
    "S4 = tbum.get_smatrix(omega)\n",
    "print(S4.shape)\n",
    "print('---')"
   ]
  },
  {
   "cell_type": "code",
   "execution_count": 7,
   "metadata": {},
   "outputs": [
    {
     "name": "stdout",
     "output_type": "stream",
     "text": [
      "The new model 'test' has been added successfully.\n"
     ]
    },
    {
     "data": {
      "text/plain": [
       "True"
      ]
     },
     "execution_count": 7,
     "metadata": {},
     "output_type": "execute_result"
    }
   ],
   "source": [
    "# test a user-defined model\n",
    "class test(GeneralModel):\n",
    "        _name = 'testuser'\n",
    "        _required_attr = ['a1', 'a2']\n",
    "        _optional_attr = ['a3', 'a4']\n",
    "        _differential_attr = ['a4']\n",
    "        _num_port = [2, 2]\n",
    "\n",
    "        def __init__(self):\n",
    "            super().__init__()\n",
    "\n",
    "        def get_smatrix(self,\n",
    "                        omega,\n",
    "                        direction,\n",
    "                        deri_vari):\n",
    "            return np.array([1])\n",
    "\n",
    "\n",
    "register_model(test)\n"
   ]
  },
  {
   "cell_type": "code",
   "execution_count": 8,
   "metadata": {},
   "outputs": [
    {
     "name": "stdout",
     "output_type": "stream",
     "text": [
      "model.json file has been reset to default successfully.\n"
     ]
    },
    {
     "data": {
      "text/plain": [
       "True"
      ]
     },
     "execution_count": 8,
     "metadata": {},
     "output_type": "execute_result"
    }
   ],
   "source": [
    "reset_model_json()"
   ]
  }
 ],
 "metadata": {
  "kernelspec": {
   "display_name": "Python 3",
   "language": "python",
   "name": "python3"
  },
  "language_info": {
   "codemirror_mode": {
    "name": "ipython",
    "version": 3
   },
   "file_extension": ".py",
   "mimetype": "text/x-python",
   "name": "python",
   "nbconvert_exporter": "python",
   "pygments_lexer": "ipython3",
   "version": "3.8.5"
  }
 },
 "nbformat": 4,
 "nbformat_minor": 1
}
