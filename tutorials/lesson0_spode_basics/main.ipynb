{
 "cells": [
  {
   "cell_type": "code",
   "execution_count": 1,
   "metadata": {
    "pycharm": {
     "is_executing": true
    }
   },
   "outputs": [
    {
     "ename": "ModuleNotFoundError",
     "evalue": "No module named 'const'",
     "output_type": "error",
     "traceback": [
      "\u001b[0;31m---------------------------------------------------------------------------\u001b[0m",
      "\u001b[0;31mModuleNotFoundError\u001b[0m                       Traceback (most recent call last)",
      "\u001b[0;32m<ipython-input-1-84cf16c5ba04>\u001b[0m in \u001b[0;36m<module>\u001b[0;34m\u001b[0m\n\u001b[0;32m----> 1\u001b[0;31m \u001b[0;32mfrom\u001b[0m \u001b[0mpodis\u001b[0m\u001b[0;34m.\u001b[0m\u001b[0mcore\u001b[0m \u001b[0;32mimport\u001b[0m \u001b[0mWaveGuide\u001b[0m\u001b[0;34m,\u001b[0m \u001b[0mPhaseShift\u001b[0m\u001b[0;34m,\u001b[0m \u001b[0mDirectionalCoupler\u001b[0m\u001b[0;34m,\u001b[0m \u001b[0mTBUm\u001b[0m\u001b[0;34m,\u001b[0m \u001b[0mGeneralModel\u001b[0m\u001b[0;34m,\u001b[0m \u001b[0mregister_model\u001b[0m\u001b[0;34m\u001b[0m\u001b[0;34m\u001b[0m\u001b[0m\n\u001b[0m\u001b[1;32m      2\u001b[0m \u001b[0;32mimport\u001b[0m \u001b[0mnumpy\u001b[0m \u001b[0;32mas\u001b[0m \u001b[0mnp\u001b[0m\u001b[0;34m\u001b[0m\u001b[0;34m\u001b[0m\u001b[0m\n",
      "\u001b[0;32m~/opt/anaconda3/lib/python3.8/site-packages/podis/__init__.py\u001b[0m in \u001b[0;36m<module>\u001b[0;34m\u001b[0m\n\u001b[0;32m----> 1\u001b[0;31m \u001b[0;32mfrom\u001b[0m \u001b[0;34m.\u001b[0m\u001b[0mcore\u001b[0m \u001b[0;32mimport\u001b[0m \u001b[0;34m*\u001b[0m\u001b[0;34m\u001b[0m\u001b[0;34m\u001b[0m\u001b[0m\n\u001b[0m",
      "\u001b[0;32m~/opt/anaconda3/lib/python3.8/site-packages/podis/core/__init__.py\u001b[0m in \u001b[0;36m<module>\u001b[0;34m\u001b[0m\n\u001b[1;32m      1\u001b[0m \u001b[0;32mfrom\u001b[0m \u001b[0;34m.\u001b[0m\u001b[0mconst\u001b[0m \u001b[0;32mimport\u001b[0m \u001b[0;34m*\u001b[0m\u001b[0;34m\u001b[0m\u001b[0;34m\u001b[0m\u001b[0m\n\u001b[0;32m----> 2\u001b[0;31m \u001b[0;32mfrom\u001b[0m \u001b[0;34m.\u001b[0m\u001b[0mmodel\u001b[0m \u001b[0;32mimport\u001b[0m \u001b[0;34m*\u001b[0m\u001b[0;34m\u001b[0m\u001b[0;34m\u001b[0m\u001b[0m\n\u001b[0m",
      "\u001b[0;32m~/opt/anaconda3/lib/python3.8/site-packages/podis/core/model.py\u001b[0m in \u001b[0;36m<module>\u001b[0;34m\u001b[0m\n\u001b[1;32m      9\u001b[0m \u001b[0;34m\u001b[0m\u001b[0m\n\u001b[1;32m     10\u001b[0m \u001b[0;31m# import podis.core.const as const\u001b[0m\u001b[0;34m\u001b[0m\u001b[0;34m\u001b[0m\u001b[0;34m\u001b[0m\u001b[0m\n\u001b[0;32m---> 11\u001b[0;31m \u001b[0;32mimport\u001b[0m \u001b[0mconst\u001b[0m\u001b[0;34m\u001b[0m\u001b[0;34m\u001b[0m\u001b[0m\n\u001b[0m\u001b[1;32m     12\u001b[0m \u001b[0;34m\u001b[0m\u001b[0m\n\u001b[1;32m     13\u001b[0m \u001b[0mmodel_json_name\u001b[0m \u001b[0;34m=\u001b[0m \u001b[0;34m'model.json'\u001b[0m\u001b[0;34m\u001b[0m\u001b[0;34m\u001b[0m\u001b[0m\n",
      "\u001b[0;31mModuleNotFoundError\u001b[0m: No module named 'const'"
     ]
    }
   ],
   "source": [
    "from spode.core import WaveGuide, PhaseShift, DirectionalCoupler, TBUm, GeneralModel, register_model\n",
    "import numpy as np"
   ]
  },
  {
   "cell_type": "code",
   "execution_count": null,
   "metadata": {},
   "outputs": [],
   "source": [
    "omega = np.linspace(0, 10, 10)"
   ]
  },
  {
   "cell_type": "code",
   "execution_count": null,
   "metadata": {},
   "outputs": [],
   "source": [
    "wg = WaveGuide(L=3., neff=2.)\n",
    "wg.print_allattr()\n",
    "S1 = wg.get_smatrix(omega)\n",
    "print(S1.shape)\n",
    "print('---')"
   ]
  },
  {
   "cell_type": "code",
   "execution_count": null,
   "metadata": {},
   "outputs": [],
   "source": [
    "ps = PhaseShift(ps=0.1 * np.pi)\n",
    "ps.print_allattr()\n",
    "S2 = ps.get_smatrix(omega)\n",
    "print(S2.shape)\n",
    "print('---')"
   ]
  },
  {
   "cell_type": "code",
   "execution_count": null,
   "metadata": {},
   "outputs": [],
   "source": [
    "dc = DirectionalCoupler(**{'cp_angle': 0.2 * np.pi})\n",
    "dc.print_allattr()\n",
    "S3 = dc.get_smatrix(omega)\n",
    "print(S3.shape)\n",
    "print('---')"
   ]
  },
  {
   "cell_type": "code",
   "execution_count": null,
   "metadata": {},
   "outputs": [],
   "source": [
    "tbum = TBUm(**{'theta': 0., 'phi': 0., 'L': 250e-6, 'neff': 2.35})\n",
    "tbum.print_allattr()\n",
    "S4 = tbum.get_smatrix(omega)\n",
    "print(S4.shape)\n",
    "print('---')"
   ]
  },
  {
   "cell_type": "code",
   "execution_count": 2,
   "metadata": {},
   "outputs": [
    {
     "ename": "NameError",
     "evalue": "name 'GeneralModel' is not defined",
     "output_type": "error",
     "traceback": [
      "\u001b[0;31m---------------------------------------------------------------------------\u001b[0m",
      "\u001b[0;31mNameError\u001b[0m                                 Traceback (most recent call last)",
      "\u001b[0;32m<ipython-input-2-ce64237e819b>\u001b[0m in \u001b[0;36m<module>\u001b[0;34m\u001b[0m\n\u001b[1;32m      1\u001b[0m \u001b[0;31m# test a user-defined model\u001b[0m\u001b[0;34m\u001b[0m\u001b[0;34m\u001b[0m\u001b[0;34m\u001b[0m\u001b[0m\n\u001b[0;32m----> 2\u001b[0;31m \u001b[0;32mclass\u001b[0m \u001b[0mTBUo\u001b[0m\u001b[0;34m(\u001b[0m\u001b[0mGeneralModel\u001b[0m\u001b[0;34m)\u001b[0m\u001b[0;34m:\u001b[0m\u001b[0;34m\u001b[0m\u001b[0;34m\u001b[0m\u001b[0m\n\u001b[0m\u001b[1;32m      3\u001b[0m     \u001b[0;34m\"\"\"The class definition of a tunable basic unit (tbu) model with phase shifts in the middle and right, but in one row.\"\"\"\u001b[0m\u001b[0;34m\u001b[0m\u001b[0;34m\u001b[0m\u001b[0m\n\u001b[1;32m      4\u001b[0m \u001b[0;34m\u001b[0m\u001b[0m\n\u001b[1;32m      5\u001b[0m     \u001b[0m_name\u001b[0m \u001b[0;34m=\u001b[0m \u001b[0;34m'tbuo'\u001b[0m\u001b[0;34m\u001b[0m\u001b[0;34m\u001b[0m\u001b[0m\n",
      "\u001b[0;31mNameError\u001b[0m: name 'GeneralModel' is not defined"
     ]
    }
   ],
   "source": [
    "# test a user-defined model\n",
    "class TBUo(GeneralModel):\n",
    "    \"\"\"The class definition of a tunable basic unit (tbu) model with phase shifts in the middle and right, but in one row.\"\"\"\n",
    "\n",
    "    _name = 'tbuo'\n",
    "    _required_attr = ['theta', 'phi', 'L', 'neff']\n",
    "    _optional_attr = {'ng': 0, 'wl': None, 'alpha': 1.0, 'cp_left': 0.5 * np.pi, 'cp_right': 0.5 * np.pi}\n",
    "    _differential_attr = ['theta', 'phi', 'L', 'cp_left', 'cp_right']\n",
    "    _num_port = [2, 2]\n",
    "\n",
    "    def __init__(self, **kwargs):\n",
    "        super().__init__(**kwargs)\n",
    "\n",
    "    def get_smatrix(self,\n",
    "                    omega: Union[list, np.ndarray],\n",
    "                    direction: Optional[str] = None,\n",
    "                    deri_vari: Optional[Union[str, List[str], Set[str]]] = None) -> \\\n",
    "            Union[Tuple[np.ndarray, dict], np.ndarray]:\n",
    "\n",
    "        # linearly approximate the effective index neff\n",
    "        neff_func = _neff(self.params['neff'], self.params['ng'], self.params['wl'])\n",
    "        beta = omega * neff_func(omega) / const.FreeLightSpeed  # propagation constant\n",
    "\n",
    "        # define and reshape the Smatrix to the correct shape (len(omega), self._num_port[0], self._num_port[1])\n",
    "\n",
    "        S1 = np.zeros((2, 2), dtype=np.complex_)\n",
    "        S1[0, 0] = S1[1, 1] = 1.0 * np.cos(self.params['cp_left'])\n",
    "        S1[0, 1] = S1[1, 0] = 1.j * np.sin(self.params['cp_left'])\n",
    "\n",
    "        S2 = np.zeros((2, 2), dtype=np.complex_)\n",
    "        S2[0, 0] = np.exp(1.j * self.params['theta'])\n",
    "        S2[1, 1] = np.exp(1.0)\n",
    "\n",
    "        S3 = np.zeros((2, 2), dtype=np.complex_)\n",
    "        S3[0, 0] = S3[1, 1] = 1.0 * np.cos(self.params['cp_right'])\n",
    "        S3[0, 1] = S3[1, 0] = 1.j * np.sin(self.params['cp_right'])\n",
    "\n",
    "        S4 = np.zeros((2, 2), dtype=np.complex_)\n",
    "        S4[0, 0] = np.exp(1.j * self.params['phi'])\n",
    "        S4[1, 1] = np.exp(1.0)\n",
    "        \n",
    "        # If the left and right directional couplers are not identical, then the S matrix will be different.\n",
    "        if direction == 'r2l':\n",
    "            S = S1 @ S2 @ S3 @ S4\n",
    "            gradS_theta = S1 @ np.array([[1.j * np.exp(1.j * self.params['theta']), 0.], [0., 0.]]) @ S3 @ S4\n",
    "            gradS_phi = S1 @ S2 @ S3 @ np.array([[1.j * np.exp(1.j * self.params['phi']), 0.], [0., 0.]])\n",
    "        elif direction == 'l2r':\n",
    "            S = S4 @ S3 @ S2 @ S1\n",
    "            gradS_theta = S4 @ S3 @ np.array([[1.j * np.exp(1.j * self.params['theta']), 0.], [0., 0.]]) @ S1\n",
    "            gradS_phi = np.array([[1.j * np.exp(1.j * self.params['phi']), 0.], [0., 0.]]) @ S3 @ S2 @ S1\n",
    "        else:\n",
    "            S = S4 @ S3 @ S2 @ S1\n",
    "            gradS_theta = S4 @ S3 @ np.array([[1.j * np.exp(1.j * self.params['theta']), 0.], [0., 0.]]) @ S1\n",
    "            gradS_phi = np.array([[1.j * np.exp(1.j * self.params['phi']), 0.], [0., 0.]]) @ S3 @ S2 @ S1\n",
    "            # TODO: the warnign message printed is bit messy; could be improved.\n",
    "            warnings.warn(\"The variable 'direction' should be either 'l2r' or 'r2l' when building S matrix. \"\n",
    "                          \"Automatically use 'direction'='l2r'. This might lead to error, if the \"\n",
    "                          \"two directional couplers in the {} are not identical.\".format(self._name))\n",
    "\n",
    "        S_wg = np.exp(1.j * beta * self.params['L']) * self.params['alpha']\n",
    "\n",
    "        Smatrix = S_wg.reshape(-1, 1, 1) * np.expand_dims(S, axis=0).repeat(len(omega), axis=0)\n",
    "\n",
    "        if deri_vari is not None:\n",
    "            grad = {}\n",
    "            if deri_vari.lower() == 'all':\n",
    "                deri_vari = self._differential_attr\n",
    "\n",
    "            if 'theta' in deri_vari:\n",
    "                grad['theta'] = S_wg * gradS_theta\n",
    "\n",
    "            if 'phi' in deri_vari:\n",
    "                grad['phi'] = S_wg * gradS_phi\n",
    "\n",
    "            if 'alpha' in deri_vari:\n",
    "                grad['alpha'] = Smatrix / self.params['alpha']\n",
    "\n",
    "            if 'L' in deri_vari:\n",
    "                grad['L'] = Smatrix * 1.j * beta\n",
    "\n",
    "            return Smatrix, grad\n",
    "        else:\n",
    "            return Smatrix\n",
    "\n",
    "register_model(TBUo)"
   ]
  },
  {
   "cell_type": "code",
   "execution_count": null,
   "metadata": {},
   "outputs": [],
   "source": []
  }
 ],
 "metadata": {
  "kernelspec": {
   "display_name": "Python 3",
   "language": "python",
   "name": "python3"
  },
  "language_info": {
   "codemirror_mode": {
    "name": "ipython",
    "version": 3
   },
   "file_extension": ".py",
   "mimetype": "text/x-python",
   "name": "python",
   "nbconvert_exporter": "python",
   "pygments_lexer": "ipython3",
   "version": "3.8.5"
  }
 },
 "nbformat": 4,
 "nbformat_minor": 1
}
